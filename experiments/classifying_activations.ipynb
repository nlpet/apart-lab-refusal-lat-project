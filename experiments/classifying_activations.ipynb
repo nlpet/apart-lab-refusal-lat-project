{
 "cells": [
  {
   "cell_type": "code",
   "execution_count": 1,
   "metadata": {},
   "outputs": [],
   "source": [
    "import pickle\n",
    "import numpy as np\n",
    "\n",
    "from sklearn.model_selection import train_test_split\n",
    "from sklearn.linear_model import LogisticRegression\n",
    "from sklearn.ensemble import RandomForestClassifier\n",
    "from sklearn.metrics import accuracy_score"
   ]
  },
  {
   "cell_type": "code",
   "execution_count": 2,
   "metadata": {},
   "outputs": [],
   "source": [
    "with open('../data_store/results_no_pca_top_direction_base.pkl', 'rb') as fr:\n",
    "    base_results = pickle.load(fr)\n",
    "\n",
    "with open('../data_store/results_no_pca_top_direction_at.pkl', 'rb') as fr:\n",
    "    at_results = pickle.load(fr)\n",
    "\n",
    "with open('../data_store/results_no_pca_top_direction_lat.pkl', 'rb') as fr:\n",
    "    lat_results = pickle.load(fr)"
   ]
  },
  {
   "cell_type": "code",
   "execution_count": 3,
   "metadata": {},
   "outputs": [],
   "source": [
    "layer = 0"
   ]
  },
  {
   "cell_type": "code",
   "execution_count": 13,
   "metadata": {},
   "outputs": [],
   "source": [
    "def run_classifiers(activations, labels):\n",
    "    X_train, X_test, y_train, y_test = train_test_split(\n",
    "        activations, labels, test_size=0.3, random_state=42, shuffle=True)\n",
    "\n",
    "    # Logistic Regression\n",
    "    lr = LogisticRegression(random_state=42)\n",
    "    lr.fit(X_train, y_train)\n",
    "    lr_accuracy = accuracy_score(y_test, lr.predict(X_test))\n",
    "\n",
    "    # Random Forest\n",
    "    rf = RandomForestClassifier(random_state=42)\n",
    "    rf.fit(X_train, y_train)\n",
    "    rf_accuracy = accuracy_score(y_test, rf.predict(X_test))\n",
    "\n",
    "    print(f\"LogisticRegression Accuracy: {lr_accuracy}\")\n",
    "    print(f\"RandomForestClassifier Accuracy: {rf_accuracy}\")"
   ]
  },
  {
   "cell_type": "markdown",
   "metadata": {},
   "source": [
    "### Base results"
   ]
  },
  {
   "cell_type": "code",
   "execution_count": 14,
   "metadata": {},
   "outputs": [
    {
     "name": "stderr",
     "output_type": "stream",
     "text": [
      "/home/paperspace/virtualenv/lib/python3.9/site-packages/sklearn/linear_model/_logistic.py:469: ConvergenceWarning: lbfgs failed to converge (status=1):\n",
      "STOP: TOTAL NO. of ITERATIONS REACHED LIMIT.\n",
      "\n",
      "Increase the number of iterations (max_iter) or scale the data as shown in:\n",
      "    https://scikit-learn.org/stable/modules/preprocessing.html\n",
      "Please also refer to the documentation for alternative solver options:\n",
      "    https://scikit-learn.org/stable/modules/linear_model.html#logistic-regression\n",
      "  n_iter_i = _check_optimize_result(\n"
     ]
    },
    {
     "name": "stdout",
     "output_type": "stream",
     "text": [
      "LogisticRegression Accuracy: 0.08888888888888889\n",
      "RandomForestClassifier Accuracy: 0.9777777777777777\n"
     ]
    }
   ],
   "source": [
    "harmful_acts = base_results[layer]['harmful_acts']\n",
    "harmless_acts = base_results[layer]['harmless_acts']\n",
    "\n",
    "activations = np.concatenate([harmful_acts, harmless_acts])\n",
    "labels = [1] * len(harmful_acts) + [0] * len(harmless_acts)\n",
    "\n",
    "run_classifiers(activations, labels)"
   ]
  },
  {
   "cell_type": "markdown",
   "metadata": {},
   "source": [
    "### AT Results"
   ]
  },
  {
   "cell_type": "code",
   "execution_count": 15,
   "metadata": {},
   "outputs": [
    {
     "name": "stderr",
     "output_type": "stream",
     "text": [
      "/home/paperspace/virtualenv/lib/python3.9/site-packages/sklearn/linear_model/_logistic.py:469: ConvergenceWarning: lbfgs failed to converge (status=1):\n",
      "STOP: TOTAL NO. of ITERATIONS REACHED LIMIT.\n",
      "\n",
      "Increase the number of iterations (max_iter) or scale the data as shown in:\n",
      "    https://scikit-learn.org/stable/modules/preprocessing.html\n",
      "Please also refer to the documentation for alternative solver options:\n",
      "    https://scikit-learn.org/stable/modules/linear_model.html#logistic-regression\n",
      "  n_iter_i = _check_optimize_result(\n"
     ]
    },
    {
     "name": "stdout",
     "output_type": "stream",
     "text": [
      "LogisticRegression Accuracy: 0.1111111111111111\n",
      "RandomForestClassifier Accuracy: 0.9722222222222222\n"
     ]
    }
   ],
   "source": [
    "harmful_acts = at_results[layer]['harmful_acts']\n",
    "harmless_acts = at_results[layer]['harmless_acts']\n",
    "\n",
    "activations = np.concatenate([harmful_acts, harmless_acts])\n",
    "labels = [1] * len(harmful_acts) + [0] * len(harmless_acts)\n",
    "\n",
    "run_classifiers(activations, labels)"
   ]
  },
  {
   "cell_type": "markdown",
   "metadata": {},
   "source": [
    "### LAT Results"
   ]
  },
  {
   "cell_type": "code",
   "execution_count": 16,
   "metadata": {},
   "outputs": [
    {
     "name": "stdout",
     "output_type": "stream",
     "text": [
      "LogisticRegression Accuracy: 0.9944444444444445\n",
      "RandomForestClassifier Accuracy: 0.9833333333333333\n"
     ]
    }
   ],
   "source": [
    "harmful_acts = lat_results[layer]['harmful_acts']\n",
    "harmless_acts = lat_results[layer]['harmless_acts']\n",
    "\n",
    "activations = np.concatenate([harmful_acts, harmless_acts])\n",
    "labels = [1] * len(harmful_acts) + [0] * len(harmless_acts)\n",
    "\n",
    "run_classifiers(activations, labels)"
   ]
  },
  {
   "cell_type": "code",
   "execution_count": null,
   "metadata": {},
   "outputs": [],
   "source": []
  }
 ],
 "metadata": {
  "kernelspec": {
   "display_name": "virtualenv",
   "language": "python",
   "name": "python3"
  },
  "language_info": {
   "codemirror_mode": {
    "name": "ipython",
    "version": 3
   },
   "file_extension": ".py",
   "mimetype": "text/x-python",
   "name": "python",
   "nbconvert_exporter": "python",
   "pygments_lexer": "ipython3",
   "version": "3.9.19"
  }
 },
 "nbformat": 4,
 "nbformat_minor": 2
}
