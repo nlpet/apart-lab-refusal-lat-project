{
 "cells": [
  {
   "cell_type": "code",
   "execution_count": 66,
   "metadata": {},
   "outputs": [],
   "source": [
    "import json"
   ]
  },
  {
   "cell_type": "code",
   "execution_count": 67,
   "metadata": {},
   "outputs": [],
   "source": [
    "with open('../data_store/completions.json', 'r') as fr:\n",
    "    results = json.load(fr)"
   ]
  },
  {
   "cell_type": "code",
   "execution_count": 68,
   "metadata": {},
   "outputs": [
    {
     "name": "stdout",
     "output_type": "stream",
     "text": [
      "Dataset: advbench_test\n",
      "\n",
      "Results for no_ablation\n",
      "  Intervention Success Rate (Regex): 0.00%\n",
      "  Intervention Success Rate (LlamaGuard2): 0.00%\n",
      "  Intervention Success Rate (Combined): 0.00%\n",
      "  Intervention Success Rate (Consensus): 0.00%\n",
      "  Final Refusal Rate: 100.00%\n",
      "\n",
      "Results for baseline\n",
      "  Intervention Success Rate (Regex): 70.19%\n",
      "  Intervention Success Rate (LlamaGuard2): 49.04%\n",
      "  Intervention Success Rate (Combined): 72.12%\n",
      "  Intervention Success Rate (Consensus): 47.12%\n",
      "  Final Refusal Rate: 27.88%\n",
      "\n",
      "Results for at\n",
      "  Intervention Success Rate (Regex): 49.04%\n",
      "  Intervention Success Rate (LlamaGuard2): 30.77%\n",
      "  Intervention Success Rate (Combined): 50.96%\n",
      "  Intervention Success Rate (Consensus): 28.85%\n",
      "  Final Refusal Rate: 49.04%\n",
      "\n",
      "Results for lat\n",
      "  Intervention Success Rate (Regex): 52.88%\n",
      "  Intervention Success Rate (LlamaGuard2): 25.00%\n",
      "  Intervention Success Rate (Combined): 53.85%\n",
      "  Intervention Success Rate (Consensus): 24.04%\n",
      "  Final Refusal Rate: 46.15%\n",
      "\n",
      "- - - - - - - - - - - - - - - - - - - - - - - - - - - - - - - - - - - - - - - - \n",
      "Dataset: custom_set\n",
      "\n",
      "Results for no_ablation\n",
      "  Intervention Success Rate (Regex): 0.00%\n",
      "  Intervention Success Rate (LlamaGuard2): 0.00%\n",
      "  Intervention Success Rate (Combined): 0.00%\n",
      "  Intervention Success Rate (Consensus): 0.00%\n",
      "  Final Refusal Rate: 100.00%\n",
      "\n",
      "Results for baseline\n",
      "  Intervention Success Rate (Regex): 79.00%\n",
      "  Intervention Success Rate (LlamaGuard2): 46.00%\n",
      "  Intervention Success Rate (Combined): 83.00%\n",
      "  Intervention Success Rate (Consensus): 42.00%\n",
      "  Final Refusal Rate: 17.00%\n",
      "\n",
      "Results for at\n",
      "  Intervention Success Rate (Regex): 66.00%\n",
      "  Intervention Success Rate (LlamaGuard2): 30.00%\n",
      "  Intervention Success Rate (Combined): 68.00%\n",
      "  Intervention Success Rate (Consensus): 28.00%\n",
      "  Final Refusal Rate: 32.00%\n",
      "\n",
      "Results for lat\n",
      "  Intervention Success Rate (Regex): 58.00%\n",
      "  Intervention Success Rate (LlamaGuard2): 30.00%\n",
      "  Intervention Success Rate (Combined): 59.00%\n",
      "  Intervention Success Rate (Consensus): 29.00%\n",
      "  Final Refusal Rate: 41.00%\n",
      "\n",
      "- - - - - - - - - - - - - - - - - - - - - - - - - - - - - - - - - - - - - - - - \n"
     ]
    }
   ],
   "source": [
    "for dataset in results:\n",
    "    print(f\"Dataset: {dataset}\\n\")\n",
    "    for variant in results[dataset]:\n",
    "        completions = results[dataset][variant]\n",
    "\n",
    "        n_successful_interventions_regex = 0\n",
    "        n_successful_interventions_llamaguard2 = 0\n",
    "        n_successful_combined = 0\n",
    "        n_successful_consensus = 0\n",
    "\n",
    "        total = len(completions)\n",
    "        for c in completions:\n",
    "            is_successful_substring = int(c['intervention']['is_successful_substring'])\n",
    "            is_successful_llamaguard2 = int(c['intervention']['is_successful_llamaguard2'])\n",
    "\n",
    "            n_successful_interventions_regex += is_successful_substring\n",
    "            n_successful_interventions_llamaguard2 += is_successful_llamaguard2\n",
    "            n_successful_combined += int(is_successful_substring == 1 or is_successful_llamaguard2 == 1)\n",
    "            n_successful_consensus += int(is_successful_substring == 1 and is_successful_llamaguard2 == 1)\n",
    "\n",
    "        regex_success_rate = n_successful_interventions_regex / total\n",
    "        llamaguard2_success_rate = n_successful_interventions_llamaguard2 / total\n",
    "        combined_success_rate = n_successful_combined / total\n",
    "        consensus_success_rate = n_successful_consensus / total\n",
    "\n",
    "        final_refusal_rate = 1 - combined_success_rate\n",
    "  \n",
    "        print(f\"Results for {variant}\")\n",
    "        print(f\"  Intervention Success Rate (Regex): {regex_success_rate:.2%}\")\n",
    "        print(f\"  Intervention Success Rate (LlamaGuard2): {llamaguard2_success_rate:.2%}\")\n",
    "        print(f\"  Intervention Success Rate (Combined): {combined_success_rate:.2%}\")\n",
    "        print(f\"  Intervention Success Rate (Consensus): {consensus_success_rate:.2%}\")\n",
    "        print(f\"  Final Refusal Rate: {final_refusal_rate:.2%}\")\n",
    "        print()\n",
    "    print('- - ' * 20)"
   ]
  },
  {
   "cell_type": "markdown",
   "metadata": {},
   "source": [
    "### Formatting as CSV"
   ]
  },
  {
   "cell_type": "code",
   "execution_count": 49,
   "metadata": {},
   "outputs": [],
   "source": [
    "import pandas as pd"
   ]
  },
  {
   "cell_type": "code",
   "execution_count": 59,
   "metadata": {},
   "outputs": [],
   "source": [
    "data = []\n",
    "\n",
    "for dataset in results:\n",
    "    for variant in results[dataset]:\n",
    "        completions = results[dataset][variant]\n",
    "        for c in completions:\n",
    "            data.append({\n",
    "                \"dataset\": dataset,\n",
    "                \"variant\": variant,\n",
    "                \"instruction\": c[\"instruction\"].strip(),\n",
    "                \"baseline_completion\": c[\"baseline\"].strip(),\n",
    "                \"intervention_completion\": c[\"intervention\"][\"completion\"].strip(),\n",
    "                \"is_success_regex\": c[\"intervention\"][\"is_successful_substring\"],\n",
    "                \"is_success_llamaguard2\": c[\"intervention\"][\"is_successful_llamaguard2\"],\n",
    "                \"is_successful_human_annot\": c[\"intervention\"].get(\"is_successful_human_annot\")\n",
    "            })"
   ]
  },
  {
   "cell_type": "code",
   "execution_count": 60,
   "metadata": {},
   "outputs": [],
   "source": [
    "df = pd.DataFrame(data)"
   ]
  },
  {
   "cell_type": "code",
   "execution_count": 52,
   "metadata": {},
   "outputs": [
    {
     "data": {
      "text/plain": [
       "array(['advbench_test', 'custom_set'], dtype=object)"
      ]
     },
     "execution_count": 52,
     "metadata": {},
     "output_type": "execute_result"
    }
   ],
   "source": [
    "df.dataset.unique()"
   ]
  },
  {
   "cell_type": "code",
   "execution_count": 63,
   "metadata": {},
   "outputs": [],
   "source": [
    "# len(set(df.query(\"dataset == 'custom_set' and variant == 'baseline'\").instruction.tolist()))"
   ]
  },
  {
   "cell_type": "code",
   "execution_count": 64,
   "metadata": {},
   "outputs": [],
   "source": [
    "df.to_csv('../data_store/completions.csv', index=False)"
   ]
  },
  {
   "cell_type": "code",
   "execution_count": null,
   "metadata": {},
   "outputs": [],
   "source": []
  }
 ],
 "metadata": {
  "kernelspec": {
   "display_name": "virtualenv",
   "language": "python",
   "name": "python3"
  },
  "language_info": {
   "codemirror_mode": {
    "name": "ipython",
    "version": 3
   },
   "file_extension": ".py",
   "mimetype": "text/x-python",
   "name": "python",
   "nbconvert_exporter": "python",
   "pygments_lexer": "ipython3",
   "version": "3.9.19"
  }
 },
 "nbformat": 4,
 "nbformat_minor": 2
}
