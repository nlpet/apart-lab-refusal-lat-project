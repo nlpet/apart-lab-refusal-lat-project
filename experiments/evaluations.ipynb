{
 "cells": [
  {
   "cell_type": "code",
   "execution_count": 66,
   "metadata": {},
   "outputs": [],
   "source": [
    "import json"
   ]
  },
  {
   "cell_type": "code",
   "execution_count": 67,
   "metadata": {},
   "outputs": [],
   "source": [
    "with open('../data_store/completions.json', 'r') as fr:\n",
    "    results = json.load(fr)"
   ]
  },
  {
   "cell_type": "code",
   "execution_count": 68,
   "metadata": {},
   "outputs": [
    {
     "name": "stdout",
     "output_type": "stream",
     "text": [
      "Dataset: advbench_test\n",
      "\n",
      "Results for no_ablation\n",
      "  Intervention Success Rate (Regex): 0.00%\n",
      "  Intervention Success Rate (LlamaGuard2): 0.00%\n",
      "  Intervention Success Rate (Combined): 0.00%\n",
      "  Intervention Success Rate (Consensus): 0.00%\n",
      "  Final Refusal Rate: 100.00%\n",
      "\n",
      "Results for baseline\n",
      "  Intervention Success Rate (Regex): 70.19%\n",
      "  Intervention Success Rate (LlamaGuard2): 49.04%\n",
      "  Intervention Success Rate (Combined): 72.12%\n",
      "  Intervention Success Rate (Consensus): 47.12%\n",
      "  Final Refusal Rate: 27.88%\n",
      "\n",
      "Results for at\n",
      "  Intervention Success Rate (Regex): 49.04%\n",
      "  Intervention Success Rate (LlamaGuard2): 30.77%\n",
      "  Intervention Success Rate (Combined): 50.96%\n",
      "  Intervention Success Rate (Consensus): 28.85%\n",
      "  Final Refusal Rate: 49.04%\n",
      "\n",
      "Results for lat\n",
      "  Intervention Success Rate (Regex): 52.88%\n",
      "  Intervention Success Rate (LlamaGuard2): 25.00%\n",
      "  Intervention Success Rate (Combined): 53.85%\n",
      "  Intervention Success Rate (Consensus): 24.04%\n",
      "  Final Refusal Rate: 46.15%\n",
      "\n",
      "- - - - - - - - - - - - - - - - - - - - - - - - - - - - - - - - - - - - - - - - \n",
      "Dataset: custom_set\n",
      "\n",
      "Results for no_ablation\n",
      "  Intervention Success Rate (Regex): 0.00%\n",
      "  Intervention Success Rate (LlamaGuard2): 0.00%\n",
      "  Intervention Success Rate (Combined): 0.00%\n",
      "  Intervention Success Rate (Consensus): 0.00%\n",
      "  Final Refusal Rate: 100.00%\n",
      "\n",
      "Results for baseline\n",
      "  Intervention Success Rate (Regex): 79.00%\n",
      "  Intervention Success Rate (LlamaGuard2): 46.00%\n",
      "  Intervention Success Rate (Combined): 83.00%\n",
      "  Intervention Success Rate (Consensus): 42.00%\n",
      "  Final Refusal Rate: 17.00%\n",
      "\n",
      "Results for at\n",
      "  Intervention Success Rate (Regex): 66.00%\n",
      "  Intervention Success Rate (LlamaGuard2): 30.00%\n",
      "  Intervention Success Rate (Combined): 68.00%\n",
      "  Intervention Success Rate (Consensus): 28.00%\n",
      "  Final Refusal Rate: 32.00%\n",
      "\n",
      "Results for lat\n",
      "  Intervention Success Rate (Regex): 58.00%\n",
      "  Intervention Success Rate (LlamaGuard2): 30.00%\n",
      "  Intervention Success Rate (Combined): 59.00%\n",
      "  Intervention Success Rate (Consensus): 29.00%\n",
      "  Final Refusal Rate: 41.00%\n",
      "\n",
      "- - - - - - - - - - - - - - - - - - - - - - - - - - - - - - - - - - - - - - - - \n"
     ]
    }
   ],
   "source": [
    "for dataset in results:\n",
    "    print(f\"Dataset: {dataset}\\n\")\n",
    "    for variant in results[dataset]:\n",
    "        completions = results[dataset][variant]\n",
    "\n",
    "        n_successful_interventions_regex = 0\n",
    "        n_successful_interventions_llamaguard2 = 0\n",
    "        n_successful_combined = 0\n",
    "        n_successful_consensus = 0\n",
    "\n",
    "        total = len(completions)\n",
    "        for c in completions:\n",
    "            is_successful_substring = int(c['intervention']['is_successful_substring'])\n",
    "            is_successful_llamaguard2 = int(c['intervention']['is_successful_llamaguard2'])\n",
    "\n",
    "            n_successful_interventions_regex += is_successful_substring\n",
    "            n_successful_interventions_llamaguard2 += is_successful_llamaguard2\n",
    "            n_successful_combined += int(is_successful_substring == 1 or is_successful_llamaguard2 == 1)\n",
    "            n_successful_consensus += int(is_successful_substring == 1 and is_successful_llamaguard2 == 1)\n",
    "\n",
    "        regex_success_rate = n_successful_interventions_regex / total\n",
    "        llamaguard2_success_rate = n_successful_interventions_llamaguard2 / total\n",
    "        combined_success_rate = n_successful_combined / total\n",
    "        consensus_success_rate = n_successful_consensus / total\n",
    "\n",
    "        final_refusal_rate = 1 - combined_success_rate\n",
    "  \n",
    "        print(f\"Results for {variant}\")\n",
    "        print(f\"  Intervention Success Rate (Regex): {regex_success_rate:.2%}\")\n",
    "        print(f\"  Intervention Success Rate (LlamaGuard2): {llamaguard2_success_rate:.2%}\")\n",
    "        print(f\"  Intervention Success Rate (Combined): {combined_success_rate:.2%}\")\n",
    "        print(f\"  Intervention Success Rate (Consensus): {consensus_success_rate:.2%}\")\n",
    "        print(f\"  Final Refusal Rate: {final_refusal_rate:.2%}\")\n",
    "        print()\n",
    "    print('- - ' * 20)"
   ]
  },
  {
   "cell_type": "markdown",
   "metadata": {},
   "source": [
    "### Formatting as CSV"
   ]
  },
  {
   "cell_type": "code",
   "execution_count": 49,
   "metadata": {},
   "outputs": [],
   "source": [
    "import pandas as pd"
   ]
  },
  {
   "cell_type": "code",
   "execution_count": 59,
   "metadata": {},
   "outputs": [],
   "source": [
    "data = []\n",
    "\n",
    "for dataset in results:\n",
    "    for variant in results[dataset]:\n",
    "        completions = results[dataset][variant]\n",
    "        for c in completions:\n",
    "            data.append({\n",
    "                \"dataset\": dataset,\n",
    "                \"variant\": variant,\n",
    "                \"instruction\": c[\"instruction\"].strip(),\n",
    "                \"baseline_completion\": c[\"baseline\"].strip(),\n",
    "                \"intervention_completion\": c[\"intervention\"][\"completion\"].strip(),\n",
    "                \"is_success_regex\": c[\"intervention\"][\"is_successful_substring\"],\n",
    "                \"is_success_llamaguard2\": c[\"intervention\"][\"is_successful_llamaguard2\"],\n",
    "                \"is_successful_human_annot\": c[\"intervention\"].get(\"is_successful_human_annot\")\n",
    "            })"
   ]
  },
  {
   "cell_type": "code",
   "execution_count": 60,
   "metadata": {},
   "outputs": [],
   "source": [
    "df = pd.DataFrame(data)"
   ]
  },
  {
   "cell_type": "code",
   "execution_count": 52,
   "metadata": {},
   "outputs": [
    {
     "data": {
      "text/plain": [
       "array(['advbench_test', 'custom_set'], dtype=object)"
      ]
     },
     "execution_count": 52,
     "metadata": {},
     "output_type": "execute_result"
    }
   ],
   "source": [
    "df.dataset.unique()"
   ]
  },
  {
   "cell_type": "code",
   "execution_count": 63,
   "metadata": {},
   "outputs": [],
   "source": [
    "# len(set(df.query(\"dataset == 'custom_set' and variant == 'baseline'\").instruction.tolist()))"
   ]
  },
  {
   "cell_type": "code",
   "execution_count": null,
   "metadata": {},
   "outputs": [],
   "source": [
    "df.to_csv('../data_store/completions.csv', index=False)"
   ]
  },
  {
   "cell_type": "markdown",
   "metadata": {},
   "source": [
    "### Using human annotations\n",
    "\n",
    "This file is obtained by downloading https://docs.google.com/spreadsheets/d/1CK4cRkbl0-yszHTbzwiNB2TM0IVyeGSntjU-jtRtA70/edit?gid=0#gid=0"
   ]
  },
  {
   "cell_type": "code",
   "execution_count": 22,
   "metadata": {},
   "outputs": [],
   "source": [
    "import pandas as pd\n",
    "from sklearn.metrics import accuracy_score\n",
    "import matplotlib.pyplot as plt"
   ]
  },
  {
   "cell_type": "code",
   "execution_count": 3,
   "metadata": {},
   "outputs": [],
   "source": [
    "df = pd.read_csv('/Users/norapetrova/Downloads/Evaluations - Datasets.csv')"
   ]
  },
  {
   "cell_type": "code",
   "execution_count": 30,
   "metadata": {},
   "outputs": [
    {
     "name": "stdout",
     "output_type": "stream",
     "text": [
      "Dataset: advbench_test\n",
      "[NO_ABLATION] Intervention Success Rate: 0.00%\n",
      "[BASELINE] Intervention Success Rate: 69.23%\n",
      "[AT] Intervention Success Rate: 48.08%\n",
      "[LAT] Intervention Success Rate: 37.50%\n",
      "\n",
      "Dataset: custom_set\n",
      "[NO_ABLATION] Intervention Success Rate: 0.00%\n",
      "[BASELINE] Intervention Success Rate: 67.00%\n",
      "[AT] Intervention Success Rate: 49.00%\n",
      "[LAT] Intervention Success Rate: 42.00%\n",
      "\n"
     ]
    }
   ],
   "source": [
    "results = {'advbench_test': [], 'custom_set': []}\n",
    "\n",
    "for dataset, group in df.groupby('dataset'):\n",
    "    print(f\"Dataset: {dataset}\")\n",
    "    for variant in ['no_ablation', 'baseline', 'at', 'lat']:\n",
    "        subgroup = group[group.variant == variant]\n",
    "        intervention_success_rate = subgroup.is_successful_human_annot.sum() / len(subgroup)\n",
    "        print(f\"[{variant.upper()}] Intervention Success Rate: {intervention_success_rate:.2%}\")\n",
    "        results[dataset].append((1 - intervention_success_rate) * 100)\n",
    "    print()"
   ]
  },
  {
   "cell_type": "code",
   "execution_count": 34,
   "metadata": {},
   "outputs": [
    {
     "data": {
      "image/png": "[encoded data removed]",
      "text/plain": [
       "<Figure size 640x480 with 1 Axes>"
      ]
     },
     "metadata": {},
     "output_type": "display_data"
    }
   ],
   "source": [
    "import matplotlib.pyplot as plt\n",
    "\n",
    "fig, ax = plt.subplots()\n",
    "\n",
    "categories = ['No Ablation', 'Baseline', 'AT', 'LAT']\n",
    "counts = results['advbench_test']\n",
    "\n",
    "bar_labels = categories\n",
    "bar_colors = ['tab:gray', 'tab:green', 'tab:orange', 'tab:red']\n",
    "\n",
    "ax.bar(categories, counts, label=bar_labels, color=bar_colors)\n",
    "\n",
    "ax.set_ylabel('Refusal Rate')\n",
    "ax.set_title('Refusal Rate per Model')\n",
    "ax.legend(title='Models')\n",
    "\n",
    "plt.show()"
   ]
  },
  {
   "cell_type": "code",
   "execution_count": 21,
   "metadata": {},
   "outputs": [
    {
     "name": "stdout",
     "output_type": "stream",
     "text": [
      "Accuracy of regex annotation: 0.88\n",
      "Accuracy of llama guard 2 annotation: 0.85\n"
     ]
    }
   ],
   "source": [
    "acc_reg = accuracy_score(df.is_success_regex, df.is_successful_human_annot)\n",
    "acc_llamaguard = accuracy_score(df.is_success_llamaguard2, df.is_successful_human_annot)\n",
    "\n",
    "print(f\"Accuracy of regex annotation: {acc_reg:.2f}\")\n",
    "print(f\"Accuracy of llama guard 2 annotation: {acc_llamaguard:.2f}\")"
   ]
  },
  {
   "cell_type": "code",
   "execution_count": 36,
   "metadata": {},
   "outputs": [],
   "source": [
    "# df.to_csv('../data_store/completions_with_human_annots.csv', index=False)"
   ]
  },
  {
   "cell_type": "code",
   "execution_count": null,
   "metadata": {},
   "outputs": [],
   "source": []
  },
  {
   "cell_type": "code",
   "execution_count": null,
   "metadata": {},
   "outputs": [],
   "source": []
  }
 ],
 "metadata": {
  "kernelspec": {
   "display_name": "Python 3 (ipykernel)",
   "language": "python",
   "name": "python3"
  },
  "language_info": {
   "codemirror_mode": {
    "name": "ipython",
    "version": 3
   },
   "file_extension": ".py",
   "mimetype": "text/x-python",
   "name": "python",
   "nbconvert_exporter": "python",
   "pygments_lexer": "ipython3",
   "version": "3.11.9"
  }
 },
 "nbformat": 4,
 "nbformat_minor": 4
}
